{
 "cells": [
  {
   "cell_type": "code",
   "execution_count": 1,
   "metadata": {},
   "outputs": [
    {
     "name": "stdout",
     "output_type": "stream",
     "text": [
      "Upload successful!\n",
      "Response: {'success': False, 'message': 'file not exist : null', 'id': '', 'stamp': None}\n",
      "File ID: \n"
     ]
    }
   ],
   "source": [
    "import requests\n",
    "\n",
    "# API 엔드포인트\n",
    "upload_url = \"http://211.45.70.89/upstage/file/upload\"\n",
    "\n",
    "# 변환 요청에 필요한 파라미터\n",
    "payload = {\n",
    "    \"convertType\": \"PDF\",  # PDF로 변환\n",
    "    \"type\": \"local\",       # 로컬 파일 전달 방식\n",
    "    \"useCache\": \"false\",   # 캐시 사용 안 함\n",
    "    \"langCode\": \"ko\"       # 한국어로 변환\n",
    "}\n",
    "\n",
    "# 변환할 파일 경로\n",
    "file_path = \"test.hwp\"\n",
    "\n",
    "# 파일을 multipart/form-data 형식으로 업로드\n",
    "files = {\n",
    "    \"file\": open(file_path, \"rb\")  # 파일을 바이너리로 읽어서 전송\n",
    "}\n",
    "\n",
    "# API 호출\n",
    "response = requests.post(upload_url, data=payload, files=files)\n",
    "\n",
    "# 결과 출력\n",
    "if response.status_code == 200:\n",
    "    response_data = response.json()\n",
    "    print(\"Upload successful!\")\n",
    "    print(\"Response:\", response_data)\n",
    "    # 추출된 ID 사용\n",
    "    file_id = response_data.get(\"id\")\n",
    "    print(\"File ID:\", file_id)\n",
    "else:\n",
    "    print(\"Failed to upload file. Status code:\", response.status_code)\n",
    "    print(\"Response:\", response.text)\n"
   ]
  },
  {
   "cell_type": "code",
   "execution_count": null,
   "metadata": {},
   "outputs": [],
   "source": []
  }
 ],
 "metadata": {
  "kernelspec": {
   "display_name": "remy",
   "language": "python",
   "name": "python3"
  },
  "language_info": {
   "codemirror_mode": {
    "name": "ipython",
    "version": 3
   },
   "file_extension": ".py",
   "mimetype": "text/x-python",
   "name": "python",
   "nbconvert_exporter": "python",
   "pygments_lexer": "ipython3",
   "version": "3.13.1"
  }
 },
 "nbformat": 4,
 "nbformat_minor": 2
}
